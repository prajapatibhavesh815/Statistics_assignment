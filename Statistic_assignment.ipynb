{
 "cells": [
  {
   "cell_type": "code",
   "execution_count": null,
   "metadata": {},
   "outputs": [],
   "source": []
  },
  {
   "cell_type": "markdown",
   "metadata": {},
   "source": [
    "1. Generate a list of 100 integers containing values between 90 to 130 and store it in the variable `int_list`. After generating the list, find the following:"
   ]
  },
  {
   "cell_type": "code",
   "execution_count": 1,
   "metadata": {},
   "outputs": [
    {
     "name": "stdout",
     "output_type": "stream",
     "text": [
      "Generated list of 100 integers: [129, 124, 129, 129, 104, 118, 127, 101, 109, 94, 101, 119, 91, 106, 113, 105, 121, 126, 127, 98, 100, 101, 92, 127, 96, 110, 125, 111, 118, 108, 94, 110, 129, 97, 129, 119, 98, 109, 115, 119, 119, 123, 124, 115, 114, 101, 117, 116, 121, 91, 102, 100, 107, 130, 117, 103, 115, 100, 99, 116, 118, 106, 124, 119, 120, 106, 91, 120, 128, 108, 128, 97, 96, 98, 129, 105, 116, 103, 100, 96, 113, 130, 102, 123, 98, 92, 120, 118, 129, 123, 126, 123, 90, 107, 117, 97, 92, 90, 105, 105]\n"
     ]
    }
   ],
   "source": [
    "import random\n",
    "\n",
    "#generate the list of 100 integers\n",
    "int_list = [random.randint(90,130) for _ in range(100)]\n",
    "\n",
    "print('Generated list of 100 integers:',int_list)"
   ]
  },
  {
   "cell_type": "markdown",
   "metadata": {},
   "source": [
    "(i) Write a Python function to calculate the mean of a given list of numbers. Create a function to find the median of a list of numbers"
   ]
  },
  {
   "cell_type": "code",
   "execution_count": 2,
   "metadata": {},
   "outputs": [
    {
     "name": "stdout",
     "output_type": "stream",
     "text": [
      "Mean of the list: 111.16\n",
      "Median of the list: 112.0\n"
     ]
    }
   ],
   "source": [
    "import numpy as np\n",
    "def calculate_mean(num_list):\n",
    "\n",
    "    mean  = np.mean(num_list)\n",
    "    return mean\n",
    "\n",
    "\n",
    "def calculate_median(num_list):\n",
    "\n",
    "    median = np.median(num_list)\n",
    "    return median\n",
    "\n",
    "#Test the functions\n",
    "\n",
    "mean = calculate_mean(int_list)\n",
    "median = calculate_median(int_list)\n",
    "\n",
    "print('Mean of the list:',mean)\n",
    "print('Median of the list:',median)\n"
   ]
  },
  {
   "cell_type": "markdown",
   "metadata": {},
   "source": [
    "(ii) Develop a program to compute the mode of a list of integers."
   ]
  },
  {
   "cell_type": "code",
   "execution_count": 3,
   "metadata": {},
   "outputs": [
    {
     "name": "stdout",
     "output_type": "stream",
     "text": [
      "Mode of the list: 129\n"
     ]
    }
   ],
   "source": [
    "import statistics as stats\n",
    "mode = stats.mode(int_list)\n",
    "\n",
    "print(\"Mode of the list:\",mode)"
   ]
  },
  {
   "cell_type": "markdown",
   "metadata": {},
   "source": [
    "(iii) Implement a function to calculate the weighted mean of a list of values and their corresponding weights."
   ]
  },
  {
   "cell_type": "code",
   "execution_count": 4,
   "metadata": {},
   "outputs": [
    {
     "name": "stdout",
     "output_type": "stream",
     "text": [
      "Weighted mean: 111.70821680228926\n"
     ]
    }
   ],
   "source": [
    "import numpy as np \n",
    "def calculate_weighted_mean(values,weights):\n",
    "    values = np.array(values)\n",
    "    weights = np.array(weights)\n",
    "\n",
    "    weighted_mean = np.average(values,weights=weights)\n",
    "\n",
    "    return weighted_mean\n",
    "\n",
    "#Example usage:\n",
    "values = int_list #using the generated int_list as values\n",
    "weights = np.random.uniform(0.1,1,size=100) #generating random weights between 0.1 to 1 using Numpy\n",
    "\n",
    "weighted_mean = calculate_weighted_mean(values,weights)\n",
    "print(\"Weighted mean:\",weighted_mean)"
   ]
  },
  {
   "cell_type": "markdown",
   "metadata": {},
   "source": [
    "(iv) Write a Python function to find the geometric mean of a list of positive numbers."
   ]
  },
  {
   "cell_type": "code",
   "execution_count": 5,
   "metadata": {},
   "outputs": [
    {
     "name": "stdout",
     "output_type": "stream",
     "text": [
      "Geometric mean: 110.49481045795847\n"
     ]
    }
   ],
   "source": [
    "import numpy as np\n",
    "\n",
    "def calculate_geomatric_mean(numbers):\n",
    "\n",
    "    numbers = np.array(numbers)\n",
    "\n",
    "    if np.any(numbers <=0):\n",
    "        raise ValueError('Number must be positive')\n",
    "    \n",
    "    geometric_mean = np.exp(np.mean(np.log(numbers)))\n",
    "\n",
    "    return geometric_mean\n",
    "\n",
    "#Example usage:\n",
    "\n",
    "geometric_mean = calculate_geomatric_mean(int_list)\n",
    "print(\"Geometric mean:\",geometric_mean)"
   ]
  },
  {
   "cell_type": "markdown",
   "metadata": {},
   "source": [
    "(v) Create a program to calculate the harmonic mean of a list of values."
   ]
  },
  {
   "cell_type": "code",
   "execution_count": 6,
   "metadata": {},
   "outputs": [
    {
     "name": "stdout",
     "output_type": "stream",
     "text": [
      "Harmonic mean: 109.82393592534443\n"
     ]
    }
   ],
   "source": [
    "def calculate_harmonic_mean(numbers):\n",
    "\n",
    "    if any(num <=0 for num in numbers):\n",
    "        raise ValueError('Numbers must be positive')\n",
    "    \n",
    "    reciprocal_sum = sum(1/num for num in numbers)\n",
    "    harmonic_mean = len(numbers) / reciprocal_sum\n",
    "\n",
    "    return harmonic_mean\n",
    "\n",
    "#Example usage:\n",
    "harmonic_mean = calculate_harmonic_mean(int_list)\n",
    "print(\"Harmonic mean:\",harmonic_mean)\n"
   ]
  },
  {
   "cell_type": "markdown",
   "metadata": {},
   "source": [
    "(vi) Build a function to determine the midrange of a list of numbers (average of the minimum and maximum)."
   ]
  },
  {
   "cell_type": "code",
   "execution_count": 7,
   "metadata": {},
   "outputs": [
    {
     "name": "stdout",
     "output_type": "stream",
     "text": [
      "Midrange: 110.0\n"
     ]
    }
   ],
   "source": [
    "def calculate_midrange(numbers):\n",
    "    if not numbers:\n",
    "        raise ValueError(\"List cannot be empty\")\n",
    "    \n",
    "    minimum = min(numbers)\n",
    "    maximum = max(numbers)\n",
    "\n",
    "    midrange = (minimum + maximum) / 2\n",
    "\n",
    "    return midrange\n",
    "\n",
    "#Example usage :\n",
    "midrange = calculate_midrange(int_list)\n",
    "print(\"Midrange:\", midrange)"
   ]
  },
  {
   "cell_type": "markdown",
   "metadata": {},
   "source": [
    "(vii) Implement a Python program to find the trimmed mean of a list, excluding a certain percentage of outliers."
   ]
  },
  {
   "cell_type": "code",
   "execution_count": 8,
   "metadata": {},
   "outputs": [
    {
     "name": "stdout",
     "output_type": "stream",
     "text": [
      "Trimmed mean (excluding 10.0% outliers): 111.35\n"
     ]
    }
   ],
   "source": [
    "def calculate_trimmed_mean(numbers,trim_percentage):\n",
    "    if not numbers:\n",
    "        raise ValueError(\"list cannot be empty\")\n",
    "    \n",
    "    if not (0 <= trim_percentage <=0.5):\n",
    "        raise ValueError(\"Trim percentage must be between 0 and 0.5\")\n",
    "    \n",
    "    sorted_numbers = sorted(numbers)\n",
    "    trim_size = int(len(sorted_numbers) * trim_percentage)\n",
    "    trimmed_numbers = sorted_numbers[trim_size:-trim_size]\n",
    "    trimmed_mean = sum (trimmed_numbers) / len(trimmed_numbers)\n",
    "\n",
    "    return trimmed_mean\n",
    "#example usage\n",
    "trim_percentage = 0.1 #Exclude 10% of outliers from both ends\n",
    "trimmed_mean = calculate_trimmed_mean(int_list,trim_percentage)\n",
    "print(\"Trimmed mean (excluding {}% outliers):\".format(trim_percentage * 100),trimmed_mean)"
   ]
  },
  {
   "cell_type": "markdown",
   "metadata": {},
   "source": [
    "2. Generate a list of 500 integers containing values between 200 to 300 and store it in the variable `int_list2`. After generating the list, find the following:"
   ]
  },
  {
   "cell_type": "code",
   "execution_count": 9,
   "metadata": {},
   "outputs": [
    {
     "name": "stdout",
     "output_type": "stream",
     "text": [
      "[238, 280, 280, 230, 268, 276, 285, 268, 293, 248, 297, 249, 235, 211, 209, 266, 268, 291, 264, 264, 248, 214, 217, 258, 260, 300, 251, 239, 283, 292, 270, 205, 294, 201, 252, 289, 270, 203, 236, 288, 203, 276, 207, 223, 220, 298, 300, 228, 277, 227, 260, 270, 271, 204, 219, 231, 259, 202, 274, 229, 203, 225, 234, 257, 299, 275, 278, 237, 224, 240, 234, 226, 267, 219, 258, 226, 245, 266, 209, 271, 200, 252, 277, 219, 240, 234, 278, 218, 224, 264, 262, 203, 209, 259, 252, 267, 245, 291, 287, 280, 277, 280, 261, 228, 212, 223, 254, 267, 227, 278, 241, 254, 291, 203, 278, 256, 218, 272, 278, 200, 265, 222, 279, 219, 273, 210, 216, 270, 215, 233, 276, 224, 274, 282, 229, 287, 276, 214, 240, 278, 229, 232, 223, 200, 237, 276, 248, 226, 230, 263, 270, 202, 214, 229, 215, 241, 212, 296, 286, 216, 270, 300, 269, 282, 264, 215, 281, 299, 247, 245, 265, 241, 267, 288, 263, 238, 290, 240, 283, 297, 236, 300, 290, 265, 273, 291, 225, 262, 251, 290, 256, 296, 235, 293, 269, 233, 206, 211, 280, 296, 284, 241, 243, 238, 260, 230, 244, 207, 276, 277, 273, 276, 292, 241, 267, 288, 204, 211, 248, 210, 222, 217, 200, 219, 282, 233, 271, 229, 270, 221, 267, 215, 237, 253, 293, 262, 203, 267, 201, 238, 283, 240, 212, 241, 296, 259, 213, 273, 286, 226, 237, 200, 215, 260, 268, 221, 235, 228, 212, 202, 228, 251, 231, 267, 225, 292, 219, 293, 238, 261, 240, 216, 290, 271, 243, 217, 212, 210, 283, 211, 227, 278, 297, 284, 255, 204, 295, 219, 266, 221, 276, 233, 200, 258, 288, 271, 219, 261, 289, 234, 266, 255, 268, 249, 270, 249, 269, 220, 256, 260, 283, 286, 300, 270, 250, 206, 214, 272, 225, 247, 277, 286, 293, 237, 240, 247, 275, 269, 210, 207, 227, 240, 295, 275, 248, 239, 221, 250, 215, 239, 282, 300, 248, 263, 274, 242, 225, 236, 284, 258, 270, 267, 226, 235, 283, 295, 210, 255, 256, 235, 205, 228, 272, 248, 296, 270, 242, 217, 223, 203, 256, 208, 215, 225, 260, 299, 235, 288, 256, 279, 275, 277, 268, 204, 285, 272, 287, 267, 237, 263, 257, 254, 214, 243, 286, 241, 269, 299, 223, 234, 217, 221, 201, 232, 260, 246, 221, 261, 252, 240, 218, 252, 258, 224, 272, 264, 260, 280, 287, 218, 225, 207, 262, 298, 282, 296, 264, 264, 238, 259, 285, 278, 281, 233, 224, 230, 270, 263, 227, 259, 207, 207, 239, 225, 287, 227, 209, 265, 251, 291, 240, 201, 201, 270, 248, 229, 209, 268, 289, 268, 288, 296, 290, 216, 286, 213, 220, 284, 254, 273, 257, 264, 216, 257, 223, 244, 204, 210, 252, 215, 268, 298, 264, 243, 239, 281, 212, 283, 242, 233, 253, 243, 271, 256, 281, 208, 204, 202, 268, 300]\n"
     ]
    }
   ],
   "source": [
    "import random \n",
    "#Generate the list of 500 integers between 200 to 300\n",
    "int_list2 = [random.randint(200,300) for _ in range(500)]\n",
    "print(int_list2)"
   ]
  },
  {
   "cell_type": "markdown",
   "metadata": {},
   "source": [
    "(i) Compare the given list of visualization for the given data: \n",
    "1. Frequency & Gaussian distribution \n",
    "2. Frequency smoothened KDE plot \n",
    "3. Gaussian distribution & smoothened KDE plot"
   ]
  },
  {
   "cell_type": "code",
   "execution_count": 10,
   "metadata": {},
   "outputs": [
    {
     "data": {
      "text/plain": [
       "Text(0, 0.5, 'probability Density')"
      ]
     },
     "execution_count": 10,
     "metadata": {},
     "output_type": "execute_result"
    },
    {
     "data": {
      "image/png": "[encoded data removed]",
      "text/plain": [
       "<Figure size 1500x500 with 2 Axes>"
      ]
     },
     "metadata": {},
     "output_type": "display_data"
    }
   ],
   "source": [
    "import matplotlib.pyplot as plt\n",
    "import seaborn as sns\n",
    "from scipy.stats import norm\n",
    "\n",
    "#plot Frequency & Gaussian distribution\n",
    "plt.figure(figsize=(15,5))\n",
    "\n",
    "#Frequency distribution\n",
    "plt.subplot(1,3,1)\n",
    "plt.hist(int_list2,bins = 20,color='skyblue', edgecolor = 'black',alpha = 0.7)\n",
    "plt.title('Frequency Distribution')\n",
    "plt.xlabel('Values')\n",
    "plt.ylabel('Frequency')\n",
    "\n",
    "#Gaussian distribution\n",
    "\n",
    "plt.subplot(1,3,2)\n",
    "mu,std = np.mean(int_list2),np.std(int_list2)\n",
    "plt.hist(int_list2,bins=20,density=True,color='skyblue',edgecolor= 'black',alpha=0.7)\n",
    "xmin,xmax = plt.xlim()\n",
    "x = np.linspace(xmin,xmax,100)\n",
    "p = norm.pdf(x,mu,std)\n",
    "plt.plot(x,p,'k',linewidth=2)\n",
    "plt.title('Gaussian Distribution')\n",
    "plt.xlabel('Values')\n",
    "plt.ylabel('probability Density')"
   ]
  },
  {
   "cell_type": "code",
   "execution_count": 11,
   "metadata": {},
   "outputs": [
    {
     "name": "stderr",
     "output_type": "stream",
     "text": [
      "C:\\Users\\praja\\AppData\\Local\\Temp\\ipykernel_11988\\447786609.py:2: FutureWarning: \n",
      "\n",
      "`shade` is now deprecated in favor of `fill`; setting `fill=True`.\n",
      "This will become an error in seaborn v0.14.0; please update your code.\n",
      "\n",
      "  sns.kdeplot(int_list2,color='skyblue',shade=True)\n"
     ]
    },
    {
     "data": {
      "image/png": "[encoded data removed]",
      "text/plain": [
       "<Figure size 640x480 with 1 Axes>"
      ]
     },
     "metadata": {},
     "output_type": "display_data"
    }
   ],
   "source": [
    "# Frequency smoothened KDE plot\n",
    "sns.kdeplot(int_list2,color='skyblue',shade=True)\n",
    "plt.title('Frequency Smoothened KDE plot')\n",
    "plt.xlabel('Values')\n",
    "plt.ylabel('Density')\n",
    "\n",
    "plt.tight_layout()\n",
    "plt.show()"
   ]
  },
  {
   "cell_type": "code",
   "execution_count": 12,
   "metadata": {},
   "outputs": [
    {
     "name": "stderr",
     "output_type": "stream",
     "text": [
      "C:\\Users\\praja\\AppData\\Local\\Temp\\ipykernel_11988\\642996042.py:17: FutureWarning: \n",
      "\n",
      "`shade` is now deprecated in favor of `fill`; setting `fill=True`.\n",
      "This will become an error in seaborn v0.14.0; please update your code.\n",
      "\n",
      "  sns.kdeplot(int_list2,color='skyblue',shade=True)\n"
     ]
    },
    {
     "data": {
      "image/png": "[encoded data removed]",
      "text/plain": [
       "<Figure size 640x480 with 2 Axes>"
      ]
     },
     "metadata": {},
     "output_type": "display_data"
    }
   ],
   "source": [
    "#Gaussian distribution\n",
    "\n",
    "plt.subplot(1,2,1)\n",
    "mu,std = np.mean(int_list2),np.std(int_list2)\n",
    "plt.hist(int_list2,bins=20,density=True,color='skyblue',edgecolor= 'black',alpha=0.7)\n",
    "xmin,xmax = plt.xlim()\n",
    "x = np.linspace(xmin,xmax,100)\n",
    "p = norm.pdf(x,mu,std)\n",
    "plt.plot(x,p,'k',linewidth=2)\n",
    "plt.title('Gaussian Distribution')\n",
    "plt.xlabel('Values')\n",
    "plt.ylabel('probability Density')\n",
    "\n",
    "\n",
    "# Frequency smoothened KDE plot\n",
    "plt.subplot(1,2,2)\n",
    "sns.kdeplot(int_list2,color='skyblue',shade=True)\n",
    "plt.title('Frequency Smoothened KDE plot')\n",
    "plt.xlabel('Values')\n",
    "plt.ylabel('Density')\n",
    "\n",
    "plt.tight_layout()\n",
    "plt.show()"
   ]
  },
  {
   "cell_type": "markdown",
   "metadata": {},
   "source": [
    "(ii) Write a Python function to calculate the range of a given list of numbers."
   ]
  },
  {
   "cell_type": "code",
   "execution_count": 13,
   "metadata": {},
   "outputs": [
    {
     "name": "stdout",
     "output_type": "stream",
     "text": [
      "Range: 100\n"
     ]
    }
   ],
   "source": [
    "def calculate_range(numbers):\n",
    "    if not numbers:\n",
    "        raise ValueError(\"list cannot be empty\")\n",
    "    \n",
    "    range_val = max(numbers) - min(numbers)\n",
    "\n",
    "    return range_val\n",
    "\n",
    "#Example usage :\n",
    "range_value = calculate_range(int_list2)\n",
    "print(\"Range:\",range_value)"
   ]
  },
  {
   "cell_type": "markdown",
   "metadata": {},
   "source": [
    "(iii) Create a program to find the variance and standard deviation of a list of numbers."
   ]
  },
  {
   "cell_type": "code",
   "execution_count": 14,
   "metadata": {},
   "outputs": [
    {
     "name": "stdout",
     "output_type": "stream",
     "text": [
      "Variance: 821.180716\n",
      "Standard Deviation: 28.656250906215906\n"
     ]
    }
   ],
   "source": [
    "def calculate_variance(numbers):\n",
    "    if not numbers:\n",
    "        raise ValueError(\"List cannot be empty\")\n",
    "    \n",
    "    mean = np.mean(numbers)\n",
    "    variance = np.mean((numbers - mean)**2)\n",
    "\n",
    "    return variance\n",
    "\n",
    "\n",
    "\n",
    "def calculate_standard_deviation(numbers):\n",
    "    if not numbers:\n",
    "        raise ValueError(\"list cannot be empty\")\n",
    "    \n",
    "    std_deviation = np.sqrt(calculate_variance(numbers))\n",
    "\n",
    "    return std_deviation\n",
    "\n",
    "#example usage:\n",
    "variance = calculate_variance(int_list2)\n",
    "std_deviation = calculate_standard_deviation(int_list2)\n",
    "\n",
    "print(\"Variance:\",variance)\n",
    "print(\"Standard Deviation:\",std_deviation)\n",
    "    "
   ]
  },
  {
   "cell_type": "markdown",
   "metadata": {},
   "source": [
    "(iv) Implement a function to compute the interquartile range (IQR) of a list of values"
   ]
  },
  {
   "cell_type": "code",
   "execution_count": 15,
   "metadata": {},
   "outputs": [
    {
     "name": "stdout",
     "output_type": "stream",
     "text": [
      "Interquartile Range(IQR): 49.0\n"
     ]
    }
   ],
   "source": [
    "def calculate_interquartile_range(numbers):\n",
    "    if not numbers:\n",
    "        raise ValueError(\"list cannot be empty\")\n",
    "    \n",
    "    q1 = np.percentile(numbers,25)\n",
    "    q3 = np.percentile(numbers,75)\n",
    "\n",
    "\n",
    "    iqr = q3 -q1\n",
    "\n",
    "    return iqr\n",
    "\n",
    "#example usage :\n",
    "iqr = calculate_interquartile_range(int_list2)\n",
    "print(\"Interquartile Range(IQR):\",iqr)"
   ]
  },
  {
   "cell_type": "markdown",
   "metadata": {},
   "source": [
    "(v) Build a program to calculate the coefficient of variation for a"
   ]
  },
  {
   "cell_type": "code",
   "execution_count": 16,
   "metadata": {},
   "outputs": [
    {
     "name": "stdout",
     "output_type": "stream",
     "text": [
      "Coefficient of variation (CV): 11.449768220225472\n"
     ]
    }
   ],
   "source": [
    "def calculate_coefficient_of_variation(numbers):\n",
    "    if not numbers:\n",
    "        raise ValueError(\"list cannot be empty\")\n",
    "    \n",
    "    mean = np.mean(numbers)\n",
    "    std_deviation = np.std(numbers)\n",
    "\n",
    "    cv = (std_deviation / mean) * 100\n",
    "\n",
    "    return cv\n",
    "\n",
    "#example usage \n",
    "cv = calculate_coefficient_of_variation(int_list2)\n",
    "print(\"Coefficient of variation (CV):\",cv)"
   ]
  },
  {
   "cell_type": "markdown",
   "metadata": {},
   "source": [
    "(vi) Write a Python function to find the mean absolute deviation (MAD) of a list of numbers."
   ]
  },
  {
   "cell_type": "code",
   "execution_count": 17,
   "metadata": {},
   "outputs": [
    {
     "name": "stdout",
     "output_type": "stream",
     "text": [
      "Mean Absolute Deviation (MAD): 25.053103999999998\n"
     ]
    }
   ],
   "source": [
    "def calculate_mean_absolute_deviation(numbers):\n",
    "    if not numbers:\n",
    "        raise ValueError(\"list cannot be empty\")\n",
    "    \n",
    "    mean = np.mean(numbers)\n",
    "    absolute_deviations = np.abs(np.array(numbers)-mean)\n",
    "    mad = np.mean(absolute_deviations)\n",
    "\n",
    "    return mad\n",
    "\n",
    "#example usage:\n",
    "mad =calculate_mean_absolute_deviation(int_list2)\n",
    "print(\"Mean Absolute Deviation (MAD):\",mad)"
   ]
  },
  {
   "cell_type": "markdown",
   "metadata": {},
   "source": [
    "(vii) Create a program to calculate the quartile deviation of a list of values."
   ]
  },
  {
   "cell_type": "code",
   "execution_count": 18,
   "metadata": {},
   "outputs": [
    {
     "name": "stdout",
     "output_type": "stream",
     "text": [
      "Quartile Deviation (QD): 24.5\n"
     ]
    }
   ],
   "source": [
    "def calculate_quartile_deviation(numbers):\n",
    "    if not numbers:\n",
    "        raise ValueError(\"List cannot be empty\")\n",
    "    \n",
    "\n",
    "    q1 = np.percentile(numbers,25)\n",
    "    q3 = np.percentile(numbers,75)\n",
    "\n",
    "    qd = (q3 - q1) / 2\n",
    "\n",
    "    return qd\n",
    "\n",
    "#example usage\n",
    "\n",
    "qd = calculate_quartile_deviation(int_list2)\n",
    "print(\"Quartile Deviation (QD):\",qd)"
   ]
  },
  {
   "cell_type": "markdown",
   "metadata": {},
   "source": [
    "(viii) Implement a function to find the range-based coefficient of dispersion for a dataset."
   ]
  },
  {
   "cell_type": "code",
   "execution_count": 19,
   "metadata": {},
   "outputs": [
    {
     "name": "stdout",
     "output_type": "stream",
     "text": [
      "Ring-based Coefficient of Dispersion (RCD): 0.3995556940681962\n"
     ]
    }
   ],
   "source": [
    "def calculate_range_based_coefficient_of_dispersion(numbers):\n",
    "    if not numbers:\n",
    "        raise ValueError(\"List cannot be empty\")\n",
    "    \n",
    "    range_val = max(numbers) - min(numbers)\n",
    "    mean = np.mean(numbers)\n",
    "\n",
    "    rcd = range_val / mean\n",
    "\n",
    "    return rcd\n",
    "\n",
    "#Example usage:\n",
    "rcd = calculate_range_based_coefficient_of_dispersion(int_list2)\n",
    "print(\"Ring-based Coefficient of Dispersion (RCD):\",rcd)"
   ]
  },
  {
   "cell_type": "markdown",
   "metadata": {},
   "source": [
    "3. Write a Python class representing a discrete random variable with methods to calculate its expected value and variance."
   ]
  },
  {
   "cell_type": "code",
   "execution_count": 20,
   "metadata": {},
   "outputs": [
    {
     "name": "stdout",
     "output_type": "stream",
     "text": [
      "Expected Value: 2.8000000000000003\n",
      "Variance: 1.9600000000000002\n"
     ]
    }
   ],
   "source": [
    "class Discreate_Random_Variable:\n",
    "    \n",
    "    def __init__(self,values,probabilities):\n",
    "        if len(values) != len(probabilities):\n",
    "            raise ValueError(\"Lengths of values and probabilities must be the same\")\n",
    "        \n",
    "        self.values = np.array(values)\n",
    "        self.probabilities = np.array(probabilities)\n",
    "\n",
    "    def expected_value(self):\n",
    "    \n",
    "        expected_value = np.sum(self.values * self.probabilities)\n",
    "        return expected_value\n",
    "    \n",
    "    def variance(self):\n",
    "\n",
    "        mean = self.expected_value()\n",
    "        variance = np.sum(self.probabilities * (self.values - mean)** 2)\n",
    "        return variance\n",
    "    \n",
    "#Example usage:\n",
    "values = [1,2,3,4,5]\n",
    "probabilities = [0.2,0.3,0.2,0.1,0.2]\n",
    "\n",
    "random_variable = Discreate_Random_Variable(values,probabilities)\n",
    "print(\"Expected Value:\",random_variable.expected_value())\n",
    "print(\"Variance:\",random_variable.variance())\n",
    "\n"
   ]
  },
  {
   "cell_type": "markdown",
   "metadata": {},
   "source": [
    "4. Implement a program to simulate the rolling of a fair six-sided die and calculate the expected value and variance of the outcomes."
   ]
  },
  {
   "cell_type": "code",
   "execution_count": 21,
   "metadata": {},
   "outputs": [
    {
     "name": "stdout",
     "output_type": "stream",
     "text": [
      "Expected Value: 3.484\n",
      "Variance: 2.9637439999999997\n"
     ]
    }
   ],
   "source": [
    "class Fair_Six_Sided_Die:\n",
    "    def __init__(self):\n",
    "        self.num_faces = 6\n",
    "\n",
    "\n",
    "    def roll(self,num_rolls):\n",
    "        outcomes = np.random.randint(1,self.num_faces + 1, size=num_rolls)\n",
    "        return outcomes\n",
    "    \n",
    "def calculate_expected_value(outcomes):\n",
    "    expected_value = np.mean(outcomes)\n",
    "    \n",
    "    return expected_value\n",
    "\n",
    "def calculate_variance(outcomes):\n",
    "\n",
    "    variance = np.var(outcomes)\n",
    "    return variance\n",
    "\n",
    "#Simulate rolling a fair six-sided die 1000 times\n",
    "num_rolls = 1000\n",
    "die = Fair_Six_Sided_Die()\n",
    "outcomes = die.roll(num_rolls)\n",
    "\n",
    "#calculate the expected value and variance of the outcomes\n",
    "\n",
    "expected_value = calculate_expected_value(outcomes)\n",
    "variance = calculate_variance(outcomes)\n",
    "\n",
    "print(\"Expected Value:\",expected_value)\n",
    "print(\"Variance:\",variance)"
   ]
  },
  {
   "cell_type": "markdown",
   "metadata": {},
   "source": [
    "5. Create a Python function to generate random samples from a given probability distribution (e.g., binomial, Poisson) and calculate their mean and variance."
   ]
  },
  {
   "cell_type": "code",
   "execution_count": 22,
   "metadata": {},
   "outputs": [
    {
     "name": "stdout",
     "output_type": "stream",
     "text": [
      "Mean: 4.954\n",
      "Variance: 2.593884\n"
     ]
    }
   ],
   "source": [
    "import numpy as np\n",
    "\n",
    "def generate_random_samples(distribution,params,sample_size):\n",
    "\n",
    "    if distribution == 'binomial':\n",
    "        if len(params) !=2:\n",
    "            raise ValueError(\"Binomial distribution requires two parameters: n and p\")\n",
    "        \n",
    "        samples = np.random.binomial(*params,size=sample_size)\n",
    "    elif distribution == 'poisson':\n",
    "        if len(params) != 1:\n",
    "            raise ValueError(\"Poison distribution requires one parameter: mu\")\n",
    "        samples = np.random.poisson(*params,size=sample_size)\n",
    "    else:\n",
    "        raise ValueError(\"Unsupported distribution.Choose 'binomial'or'poisson'\")\n",
    "    \n",
    "\n",
    "    mean = np.mean(samples)\n",
    "    variance = np.var(samples)\n",
    "\n",
    "    return mean,variance\n",
    "\n",
    "#Example usage\n",
    "\n",
    "distribution = 'binomial'\n",
    "params = (10,0.5) # n=10,p=0.5\n",
    "sample_size = 1000\n",
    "mean,variance = generate_random_samples(distribution,params,sample_size)\n",
    "print(\"Mean:\",mean)\n",
    "print(\"Variance:\",variance)\n"
   ]
  },
  {
   "cell_type": "markdown",
   "metadata": {},
   "source": [
    "6. Write a Python script to generate random numbers from a Gaussian (normal) distribution and compute the mean, variance, and standard deviation of the samples."
   ]
  },
  {
   "cell_type": "code",
   "execution_count": 23,
   "metadata": {},
   "outputs": [
    {
     "name": "stdout",
     "output_type": "stream",
     "text": [
      "Mean: 0.05956651765421542\n",
      "Variance: 0.9470473214854139\n",
      "Standard Deviation: 0.9731635635829231\n"
     ]
    }
   ],
   "source": [
    "import numpy as np\n",
    "\n",
    "#Set the parameters for the Guassian distribution\n",
    "\n",
    "mu =0 #mean\n",
    "sigma = 1 #standard deviation\n",
    "sample_size = 1000\n",
    "\n",
    "#Generate random samples from the Gaussian distribution\n",
    "samples = np.random.normal(mu,sigma,sample_size)\n",
    "\n",
    "#Compute the mean,variance,and standard deviation of the samples\n",
    "\n",
    "mean = np.mean(samples)\n",
    "variance = np.var(samples)\n",
    "std_deviation = np.std(samples)\n",
    "\n",
    "#print the results\n",
    "print(\"Mean:\",mean)\n",
    "print(\"Variance:\",variance)\n",
    "print(\"Standard Deviation:\",std_deviation)"
   ]
  },
  {
   "cell_type": "markdown",
   "metadata": {},
   "source": [
    "7. Use seaborn library to load `tips` dataset. Find the following from the dataset for the columns `total_bill` and `tip`:"
   ]
  },
  {
   "cell_type": "code",
   "execution_count": 24,
   "metadata": {},
   "outputs": [
    {
     "name": "stdout",
     "output_type": "stream",
     "text": [
      "Summary statistics for 'total_bill' column:\n",
      "count    244.000000\n",
      "mean      19.785943\n",
      "std        8.902412\n",
      "min        3.070000\n",
      "25%       13.347500\n",
      "50%       17.795000\n",
      "75%       24.127500\n",
      "max       50.810000\n",
      "Name: total_bill, dtype: float64\n",
      "\n",
      "Summary statistics for 'tip' column\n",
      "count    244.000000\n",
      "mean       2.998279\n",
      "std        1.383638\n",
      "min        1.000000\n",
      "25%        2.000000\n",
      "50%        2.900000\n",
      "75%        3.562500\n",
      "max       10.000000\n",
      "Name: tip, dtype: float64\n"
     ]
    }
   ],
   "source": [
    "import seaborn as sns\n",
    "\n",
    "#load the tips dataset\n",
    "tips = sns.load_dataset(\"tips\")\n",
    "\n",
    "#Summary statistics for 'total_bill' column\n",
    "total_bill_stats = tips['total_bill'].describe()\n",
    "\n",
    "#Summary statistics for 'tip' column\n",
    "tip_stats = tips['tip'].describe()\n",
    "\n",
    "print(\"Summary statistics for 'total_bill' column:\")\n",
    "print(total_bill_stats)\n",
    "print(\"\\nSummary statistics for 'tip' column\")\n",
    "print(tip_stats)\n"
   ]
  },
  {
   "cell_type": "markdown",
   "metadata": {},
   "source": [
    "(i) Write a Python function that calculates their skewness."
   ]
  },
  {
   "cell_type": "code",
   "execution_count": 26,
   "metadata": {},
   "outputs": [
    {
     "name": "stdout",
     "output_type": "stream",
     "text": [
      "Skewness for 'total_bill' column: 1.1262346334818638\n",
      "Skewness for 'tip' column: 1.4564266884221506\n"
     ]
    }
   ],
   "source": [
    "import seaborn as sns\n",
    "from scipy.stats import skew\n",
    "\n",
    "def calculate_skewness(data,column_name):\n",
    "    #Calculate skewness\n",
    "    skewness = skew(data[column_name])\n",
    "    return skewness\n",
    "\n",
    "#Calculate skewness for 'total_bill' column\n",
    "total_bill_skewness = calculate_skewness(tips,'total_bill')\n",
    "\n",
    "#Calculate skewness for 'tip' column\n",
    "tip_skewness = calculate_skewness(tips,'tip')\n",
    "\n",
    "print(\"Skewness for 'total_bill' column:\",total_bill_skewness)\n",
    "print(\"Skewness for 'tip' column:\",tip_skewness)\n",
    "\n"
   ]
  },
  {
   "cell_type": "markdown",
   "metadata": {},
   "source": [
    "(ii) Create a program that determines whether the columns exhibit positive skewness, negative skewness, or is approximately symmetric."
   ]
  },
  {
   "cell_type": "code",
   "execution_count": 27,
   "metadata": {},
   "outputs": [
    {
     "name": "stdout",
     "output_type": "stream",
     "text": [
      "Skewness description for 'total_bill' column Positive skewness\n",
      "Skewness description for 'tip' column Positive skewness\n"
     ]
    }
   ],
   "source": [
    "def skewness_description(skewness):\n",
    "    if  skewness > 0:\n",
    "        return \"Positive skewness\"\n",
    "    \n",
    "    elif skewness < 0:\n",
    "        return \"Negative skewness\"\n",
    "    else: \n",
    "        return \"Approximately symmetric\"\n",
    "    \n",
    "def determine_skewness_description(data,column_name):\n",
    "    skewness = skew(data[column_name])\n",
    "    description = skewness_description(skewness)\n",
    "    return description\n",
    "\n",
    "#Determine skewness description for 'total_bill' column\n",
    "total_bill_skewness_desc = determine_skewness_description(tips,'total_bill')\n",
    "\n",
    "#Determine skewness description for 'tip' column\n",
    "tip_skewness_desc = determine_skewness_description(tips,'tip')\n",
    "\n",
    "print(\"Skewness description for 'total_bill' column\",total_bill_skewness_desc)\n",
    "print(\"Skewness description for 'tip' column\",tip_skewness_desc)"
   ]
  },
  {
   "cell_type": "markdown",
   "metadata": {},
   "source": [
    "(iii) Write a function that calculates the covariance between two columns."
   ]
  },
  {
   "cell_type": "code",
   "execution_count": 28,
   "metadata": {},
   "outputs": [
    {
     "name": "stdout",
     "output_type": "stream",
     "text": [
      "covariance between 'total_bill' and 'tip' columns 8.323501629224854\n"
     ]
    }
   ],
   "source": [
    "def calculate_covariance(data,column1,column2):\n",
    "    covariance = np.cov(data[column1], data[column2])[0][1]\n",
    "    return covariance\n",
    "\n",
    "#calculate covariance between 'total_bill' and 'tip' columns\n",
    "covariance_total_bill_tip = calculate_covariance(tips,'total_bill','tip')\n",
    "\n",
    "print(\"covariance between 'total_bill' and 'tip' columns\",covariance_total_bill_tip)"
   ]
  },
  {
   "cell_type": "markdown",
   "metadata": {},
   "source": [
    "(iv) Implement a Python program that calculates the Pearson correlation coefficient between two columns."
   ]
  },
  {
   "cell_type": "code",
   "execution_count": 29,
   "metadata": {},
   "outputs": [
    {
     "name": "stdout",
     "output_type": "stream",
     "text": [
      "Pearson correlation coefficient between 'total_bill' and 'tips' columns: 0.6757341092113645\n"
     ]
    }
   ],
   "source": [
    "from scipy.stats import pearsonr\n",
    "\n",
    "def calculate_pearson_correlation(data,column1,column2):\n",
    "    correlation_coefficient,_ = pearsonr(data[column1],data[column2])\n",
    "    return correlation_coefficient\n",
    "\n",
    "#Calculate Pearson correlation coefficient between 'total_bill' and 'tip' columns\n",
    "pearson_corr_total_bill_tip = calculate_pearson_correlation(tips,'total_bill','tip')\n",
    "\n",
    "print(\"Pearson correlation coefficient between 'total_bill' and 'tips' columns:\",pearson_corr_total_bill_tip)"
   ]
  },
  {
   "cell_type": "markdown",
   "metadata": {},
   "source": [
    "(v) Write a script to visualize the correlation between two specific columns in a Pandas DataFrame using scatter plots."
   ]
  },
  {
   "cell_type": "code",
   "execution_count": 30,
   "metadata": {},
   "outputs": [
    {
     "data": {
      "image/png": "[encoded data removed]",
      "text/plain": [
       "<Figure size 800x600 with 1 Axes>"
      ]
     },
     "metadata": {},
     "output_type": "display_data"
    }
   ],
   "source": [
    "import seaborn as sns\n",
    "import matplotlib.pyplot as plt\n",
    "\n",
    "def visualize_correlation(data,column1,column2):\n",
    "    plt.figure(figsize=(8,6))\n",
    "    sns.scatterplot(x=column1, y=column2, data = data)\n",
    "    plt.title(f\"Scatter plot of {column1} vs {column2}\")\n",
    "    plt.xlabel(column1)\n",
    "    plt.ylabel(column2)\n",
    "    plt.grid(True)\n",
    "    plt.show()\n",
    "\n",
    "#Visualize correlation between 'total_bill' and 'tip' columns\n",
    "visualize_correlation(tips,'total_bill','tip') "
   ]
  },
  {
   "cell_type": "markdown",
   "metadata": {},
   "source": [
    "8. Write a Python function to calculate the probability density function (PDF) of a continuous random variable for a given normal distribution."
   ]
  },
  {
   "cell_type": "code",
   "execution_count": 31,
   "metadata": {},
   "outputs": [
    {
     "name": "stdout",
     "output_type": "stream",
     "text": [
      "PDF value at x = 2.5 : 0.01752830049356854\n"
     ]
    }
   ],
   "source": [
    "import numpy as np\n",
    "\n",
    "def normal_pdf(x, mean,std_dev):\n",
    "    coefficient = 1 /np.sqrt(2 * np.pi * std_dev**2)\n",
    "    exponent = -((x - mean)**2)/(2* std_dev**2)\n",
    "    pdf = coefficient * np.exp(exponent)\n",
    "    return pdf\n",
    "\n",
    "#Example usage\n",
    "x_value = 2.5\n",
    "mean_value = 0\n",
    "std_dev_value = 1\n",
    "\n",
    "pdf_value = normal_pdf(x_value,mean_value,std_dev_value)\n",
    "print(\"PDF value at x =\",x_value,\":\",pdf_value)"
   ]
  },
  {
   "cell_type": "markdown",
   "metadata": {},
   "source": [
    "9. Create a program to calculate the cumulative distribution function (CDF) of exponential distribution."
   ]
  },
  {
   "cell_type": "code",
   "execution_count": 32,
   "metadata": {},
   "outputs": [
    {
     "name": "stdout",
     "output_type": "stream",
     "text": [
      "CDF value at x = 2.5 : 0.7134952031398099\n"
     ]
    }
   ],
   "source": [
    "import numpy as np\n",
    "\n",
    "def exponential_cdf(x,lambda_param):\n",
    "    cdf = 1-np.exp(-lambda_param * x)\n",
    "    return cdf\n",
    "\n",
    "\n",
    "#Example usage\n",
    "x_value= 2.5\n",
    "lambda_value = 0.5\n",
    "\n",
    "cdf_value = exponential_cdf(x_value,lambda_value)\n",
    "\n",
    "print(\"CDF value at x =\",x_value,\":\",cdf_value)"
   ]
  },
  {
   "cell_type": "code",
   "execution_count": null,
   "metadata": {},
   "outputs": [],
   "source": []
  }
 ],
 "metadata": {
  "kernelspec": {
   "display_name": "base",
   "language": "python",
   "name": "python3"
  },
  "language_info": {
   "codemirror_mode": {
    "name": "ipython",
    "version": 3
   },
   "file_extension": ".py",
   "mimetype": "text/x-python",
   "name": "python",
   "nbconvert_exporter": "python",
   "pygments_lexer": "ipython3",
   "version": "3.11.5"
  }
 },
 "nbformat": 4,
 "nbformat_minor": 2
}
